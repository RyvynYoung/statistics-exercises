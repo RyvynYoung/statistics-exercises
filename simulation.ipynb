{
 "cells": [
  {
   "cell_type": "code",
   "execution_count": 2,
   "metadata": {},
   "outputs": [],
   "source": [
    "import numpy as np\n",
    "import pandas as pd\n",
    "\n",
    "import viz # curriculum example visualizations\n",
    "\n",
    "np.random.seed(29)"
   ]
  },
  {
   "cell_type": "code",
   "execution_count": null,
   "metadata": {},
   "outputs": [],
   "source": [
    "# example code from curriculum\n",
    "# n_trials = nrows = 10_000\n",
    "# n_dice = ncols = 3\n",
    "\n",
    "# rolls = np.random.choice([1, 2, 3, 4, 5, 6], n_trials * n_dice).reshape(nrows, ncols)\n",
    "# rolls\n",
    "\n"
   ]
  },
  {
   "cell_type": "code",
   "execution_count": 8,
   "metadata": {},
   "outputs": [
    {
     "name": "stdout",
     "output_type": "stream",
     "text": [
      "[[3 2]\n",
      " [3 3]\n",
      " [6 5]\n",
      " ...\n",
      " [3 6]\n",
      " [5 3]\n",
      " [2 6]]\n"
     ]
    }
   ],
   "source": [
    "# 1. How likely is it that you roll doubles when rolling two dice?\n",
    "\n",
    "#problem set up, need 10000 trials (large # trials), rolling 2 dice\n",
    "#each roll of 2 dice will be a row\n",
    "\n",
    "ntrials = nrows = 10000\n",
    "ndice = ncols = 2\n",
    "\n",
    "rolls = np.random.choice([1,2,3,4,5,6], ntrials * ndice).reshape(nrows, ncols)\n",
    "print(rolls)\n"
   ]
  },
  {
   "cell_type": "code",
   "execution_count": null,
   "metadata": {},
   "outputs": [],
   "source": [
    "# example code from curriculum\n",
    "# n_simulations = nrows = 10**5\n",
    "# n_dice_rolled = ncols = 3\n",
    "\n",
    "# rolls = np.random.choice([1, 2, 3, 4, 5, 6], nrows * ncols).reshape(nrows, ncols)\n",
    "\n",
    "# (pd.DataFrame(rolls)\n",
    "#  .apply(lambda row: 3 in row.values, axis=1)\n",
    "#  .mean())"
   ]
  },
  {
   "cell_type": "code",
   "execution_count": 11,
   "metadata": {},
   "outputs": [
    {
     "data": {
      "text/plain": [
       "0.1636"
      ]
     },
     "execution_count": 11,
     "metadata": {},
     "output_type": "execute_result"
    }
   ],
   "source": [
    "#now that we have sample rolls, determine which rolls are doubles\n",
    "#need data in dataframe instead of matrix?\n",
    "rolls = pd.DataFrame(rolls)\n",
    "#then apply lambda function to look for doubles?\n",
    "doubles = rolls.apply(lambda row: row[0]==row[1], axis=1)\n",
    "#then find the average of the times the row is true\n",
    "doubles.mean()\n",
    "\n",
    "# exobrain answer verification https://www.stayorswitch.com/blog/with-two-dice-whats-the-probability-of-rolling-doubles/"
   ]
  },
  {
   "cell_type": "code",
   "execution_count": 17,
   "metadata": {},
   "outputs": [
    {
     "data": {
      "text/plain": [
       "0.2181"
      ]
     },
     "execution_count": 17,
     "metadata": {},
     "output_type": "execute_result"
    }
   ],
   "source": [
    "# 2. If you flip 8 coins, what is the probability of getting exactly 3 heads?\n",
    "\n",
    "# exobrain https://www.google.com/search?client=safari&rls=en&q=If+you+flip+8+coins,+what+is+the+probability+of+getting+exactly+3+heads&ie=UTF-8&oe=UTF-8\n",
    "\n",
    "#problem set up, 1 row per trial, 8 columns, 1=heads, 0=tails\n",
    "#example from lesson\n",
    "# sums_by_trial = rolls.sum(axis=1)\n",
    "# sums_by_trial\n",
    "\n",
    "ntrials = nrows = 10000\n",
    "ncoins = ncols = 8\n",
    "\n",
    "flips = np.random.choice([1, 0], nrows * ncols).reshape(nrows, ncols)\n",
    "#now add the row total\n",
    "sumbytrial = flips.sum(axis=1)\n",
    "# then get the average of those where the sum is 3\n",
    "(sumbytrial==3).mean()"
   ]
  },
  {
   "cell_type": "code",
   "execution_count": null,
   "metadata": {},
   "outputs": [],
   "source": [
    "# 2a. What is the probability of getting more than 3 heads?"
   ]
  },
  {
   "cell_type": "code",
   "execution_count": 18,
   "metadata": {},
   "outputs": [
    {
     "data": {
      "text/plain": [
       "0.636"
      ]
     },
     "execution_count": 18,
     "metadata": {},
     "output_type": "execute_result"
    }
   ],
   "source": [
    "# get the average where the sum is greater than 3\n",
    "(sumbytrial>3).mean()"
   ]
  },
  {
   "cell_type": "code",
   "execution_count": 4,
   "metadata": {},
   "outputs": [
    {
     "data": {
      "text/plain": [
       "0.06375625"
      ]
     },
     "execution_count": 4,
     "metadata": {},
     "output_type": "execute_result"
    }
   ],
   "source": [
    "# 3. There are approximitely 3 web development cohorts for every 1 data science cohort at Codeup. \n",
    "# Assuming that Codeup randomly selects an alumni to put on a billboard, what are the odds that the two\n",
    "# billboards I drive past both have data science students on them?\n",
    "\n",
    "# example weighted probability from lesson\n",
    "# Let's make an un-fair coin that flips heads .60\n",
    "# probabilities = [.75, .25]\n",
    "# flips = np.random.choice([\"Heads\", \"Tails\"], size=10_000, p=probabilities)\n",
    "# (flips == \"Heads\").mean()\n",
    "\n",
    "probabilities = [.75, .25]\n",
    "billboard = np.random.choice([\"Web\", \"Data\"], size=10000, p=probabilities)\n",
    "data = (billboard == \"Data\").mean()\n",
    "# mean of this for \"Data\" is probability of 1 billboard being data science\n",
    "# square that probability to find odds of both being data\n",
    "data**2\n",
    "\n"
   ]
  },
  {
   "cell_type": "code",
   "execution_count": 50,
   "metadata": {},
   "outputs": [
    {
     "data": {
      "text/plain": [
       "0.6099"
      ]
     },
     "execution_count": 50,
     "metadata": {},
     "output_type": "execute_result"
    }
   ],
   "source": [
    "# 4. Codeup students buy, on average, 3 poptart packages (+- 1.5) a day from the snack vending machine. \n",
    "# If on monday the machine is restocked with 17 poptart packages, how likely is it that I will be able to \n",
    "# buy some poptarts on Friday afternoon?\n",
    "\n",
    "# 17 start Monday before class, the range of poptarts eaten per week is 7.5 to 22.5\n",
    "# but can't eat .5 of a poptart so use 8 and 23 for hypothetical poptarts that would be eaten\n",
    "# generate random whole numbers in this range to represent # of poptarts eaten each week\n",
    "eaten_weekly = np.random.randint(low=8, high=23, size=10000)\n",
    "\n",
    "left = 17 - eaten_weekly\n",
    "(left>=1).mean()\n"
   ]
  },
  {
   "cell_type": "code",
   "execution_count": 39,
   "metadata": {},
   "outputs": [
    {
     "data": {
      "text/plain": [
       "0.607"
      ]
     },
     "execution_count": 39,
     "metadata": {},
     "output_type": "execute_result"
    }
   ],
   "source": [
    "# 4. alternative calculation\n",
    "# Corey and exobrain https://numpy.org/doc/stable/reference/random/generated/numpy.random.normal.html\n",
    "# use normal because have mean and standard dev, but want 10000 trials in sets of 5 days\n",
    "eaten = np.random.normal(3, 1.5, size=(10000, 5))\n",
    "# this gives a np array of values, need to remove negative amounts because can't eat negative poptarts\n",
    "type(eaten)\n",
    "# exobrain https://www.w3resource.com/python-exercises/numpy/python-numpy-exercise-90.php\n",
    "eaten[eaten<0]=0\n",
    "# convert to dataframe\n",
    "eaten = pd.DataFrame(eaten)\n",
    "# apply lambda function to sum each row for total eaten\n",
    "weekly2 = eaten.apply(lambda row: row.sum(), axis=1)\n",
    "# if weekly is less than or equal to 16 then there are poptarts left on Friday afternoon\n",
    "(weekly2<=16).mean()\n"
   ]
  },
  {
   "cell_type": "code",
   "execution_count": 32,
   "metadata": {},
   "outputs": [
    {
     "data": {
      "text/plain": [
       "0.2137"
      ]
     },
     "execution_count": 32,
     "metadata": {},
     "output_type": "execute_result"
    }
   ],
   "source": [
    "# 5. Compare Heights\n",
    "# -Men have an average height of 178 cm and standard deviation of 8cm.\n",
    "# -Women have a mean of 170, sd = 6cm.\n",
    "# -If a man and woman are chosen at random, P(woman taller than man)?\n",
    "\n",
    "# get a sample of 10000 men and 10000 women with heights within 1 standard dev of mean\n",
    "men = np.random.normal(loc=178, scale=8, size=10000)\n",
    "women = np.random.normal(loc=170, scale=6, size=10000)\n",
    "\n",
    "# subtract men - women, if result is negative woman is taller\n",
    "taller = men - women\n",
    "\n",
    "# find average where taller is negative\n",
    "(taller<0).mean()"
   ]
  },
  {
   "cell_type": "code",
   "execution_count": 59,
   "metadata": {},
   "outputs": [
    {
     "data": {
      "text/plain": [
       "0.8166"
      ]
     },
     "execution_count": 59,
     "metadata": {},
     "output_type": "execute_result"
    }
   ],
   "source": [
    "# 6. When installing anaconda on a student's computer, there's a 1 in 250 chance that the download is corrupted\n",
    "# and the installation fails. What are the odds that after having 50 students download anaconda, no one has an\n",
    "# installation issue? \n",
    "\n",
    "# 1/250 chance of fail convert to percent success and percent fail\n",
    "probabilities = [.996, .004]\n",
    "# generate 10,000 trails in sets of 50 students\n",
    "install = np.random.choice([\"Pass\", \"Fail\"], size=(10000, 50), p=probabilities)\n",
    "# find average where fail in the set of 50\n",
    "# convert to df to apply lambda to look for Fail in set\n",
    "install = pd.DataFrame(install)\n",
    "# apply lambda function and average row where Fail present subtract % fail from 1 to get % all pass\n",
    "all_pass = 1 - (install.apply(lambda row: \"Fail\" in row.values, axis=1).mean())\n",
    "all_pass"
   ]
  },
  {
   "cell_type": "code",
   "execution_count": 62,
   "metadata": {},
   "outputs": [
    {
     "data": {
      "text/plain": [
       "0.8184024506760997"
      ]
     },
     "execution_count": 62,
     "metadata": {},
     "output_type": "execute_result"
    }
   ],
   "source": [
    "1*.996**50*.004**0"
   ]
  },
  {
   "cell_type": "code",
   "execution_count": 60,
   "metadata": {},
   "outputs": [
    {
     "data": {
      "text/plain": [
       "0.6707000000000001"
      ]
     },
     "execution_count": 60,
     "metadata": {},
     "output_type": "execute_result"
    }
   ],
   "source": [
    "# 6a. # 100 students?\n",
    "probabilities = [.996, .004]\n",
    "# generate 10,000 trails in sets of 100 students\n",
    "install = np.random.choice([\"Pass\", \"Fail\"], size=(10000, 100), p=probabilities)\n",
    "# find average where fail in the set of 50\n",
    "# convert to df to apply lambda to look for Fail in set\n",
    "install = pd.DataFrame(install)\n",
    "# apply lambda function and average row where Fail present subtract % fail from 1 to get % all pass\n",
    "all_pass = 1 - (install.apply(lambda row: \"Fail\" in row.values, axis=1).mean())\n",
    "all_pass"
   ]
  },
  {
   "cell_type": "code",
   "execution_count": 63,
   "metadata": {},
   "outputs": [
    {
     "data": {
      "text/plain": [
       "0.6697825712726458"
      ]
     },
     "execution_count": 63,
     "metadata": {},
     "output_type": "execute_result"
    }
   ],
   "source": [
    "1*.996**100*.004**0"
   ]
  },
  {
   "cell_type": "code",
   "execution_count": 65,
   "metadata": {},
   "outputs": [
    {
     "data": {
      "text/plain": [
       "0.4505"
      ]
     },
     "execution_count": 65,
     "metadata": {},
     "output_type": "execute_result"
    }
   ],
   "source": [
    "# 6b. What is the probability that we observe an installation issue within the first 150 students that\n",
    "# download anaconda?\n",
    "\n",
    "probabilities = [.996, .004]\n",
    "# generate 10,000 trails in sets of 100 students\n",
    "install = np.random.choice([\"Pass\", \"Fail\"], size=(10000, 150), p=probabilities)\n",
    "# find average where fail in the set of 50\n",
    "# convert to df to apply lambda to look for Fail in set\n",
    "install = pd.DataFrame(install)\n",
    "# apply lambda function and average row where Fail present subtract % fail from 1 to get % all pass\n",
    "any_fail = install.apply(lambda row: \"Fail\" in row.values, axis=1).mean()\n",
    "any_fail"
   ]
  },
  {
   "cell_type": "code",
   "execution_count": 64,
   "metadata": {},
   "outputs": [
    {
     "data": {
      "text/plain": [
       "0.4518483022503271"
      ]
     },
     "execution_count": 64,
     "metadata": {},
     "output_type": "execute_result"
    }
   ],
   "source": [
    "# P of 1 issue in 1st 150 = 1 - P(no issues in 1st 150)\n",
    "1-(1*.996**150*.004**0)"
   ]
  },
  {
   "cell_type": "code",
   "execution_count": 68,
   "metadata": {},
   "outputs": [
    {
     "data": {
      "text/plain": [
       "0.16169999999999995"
      ]
     },
     "execution_count": 68,
     "metadata": {},
     "output_type": "execute_result"
    }
   ],
   "source": [
    "# 6c. How likely is it that 450 students all download anaconda without an issue?\n",
    "probabilities = [.996, .004]\n",
    "# generate 10,000 trails in sets of 100 students\n",
    "install = np.random.choice([\"Pass\", \"Fail\"], size=(10000, 450), p=probabilities)\n",
    "# find average where fail in the set of 50\n",
    "# convert to df to apply lambda to look for Fail in set\n",
    "install = pd.DataFrame(install)\n",
    "# apply lambda function and average row where Fail present subtract % fail from 1 to get % all pass\n",
    "all_pass = 1 - (install.apply(lambda row: \"Fail\" in row.values, axis=1).mean())\n",
    "all_pass"
   ]
  },
  {
   "cell_type": "code",
   "execution_count": 66,
   "metadata": {},
   "outputs": [
    {
     "data": {
      "text/plain": [
       "0.1647032961586129"
      ]
     },
     "execution_count": 66,
     "metadata": {},
     "output_type": "execute_result"
    }
   ],
   "source": [
    "1*.996**450*.004**0"
   ]
  },
  {
   "cell_type": "code",
   "execution_count": null,
   "metadata": {},
   "outputs": [],
   "source": [
    "# exbrain binomial example\n",
    "# A real world example. A company drills 9 wild-cat oil exploration wells, each with an estimated probability of\n",
    "# success of 0.1. All nine wells fail. What is the probability of that happening?\n",
    "\n",
    "# Let’s do 20,000 trials of the model, and count the number that generate zero positive results.\n",
    "\n",
    "#sum(np.random.binomial(9, 0.1, 20000)==0)/20000\n",
    "# # answer = 0.38885, or 38%."
   ]
  },
  {
   "cell_type": "code",
   "execution_count": 78,
   "metadata": {},
   "outputs": [
    {
     "name": "stdout",
     "output_type": "stream",
     "text": [
      "0.02495\n",
      "0.99965\n"
     ]
    }
   ],
   "source": [
    "# 7. There's a 70% chance on any given day that there will be at least one food truck at Travis Park. \n",
    "# However, you haven't seen a food truck there in 3 days. How unlikely is this?\n",
    "\n",
    "unlikely = sum(np.random.binomial(3, 0.7, 20000)==0)/20000\n",
    "print(unlikely)\n",
    "\n",
    "# How likely is it that a food truck will show up sometime this week?\n",
    "likely = 1-(sum(np.random.binomial(7, 0.7, 20000)==0)/20000)\n",
    "print(likely)"
   ]
  },
  {
   "cell_type": "code",
   "execution_count": 87,
   "metadata": {},
   "outputs": [
    {
     "name": "stdout",
     "output_type": "stream",
     "text": [
      "[[297  62 323 ... 133 102 207]\n",
      " [119  18 235 ... 211 333 314]\n",
      " [130 122 145 ...  61  64  22]\n",
      " ...\n",
      " [ 25   5 344 ... 231 167 205]\n",
      " [284  90 227 ... 106 158 302]\n",
      " [ 91 298 172 ... 304 308 135]]\n",
      "(array([  1,   2,   3,   4,   5,   6,   7,   8,   9,  10,  11,  12,  13,\n",
      "        14,  15,  16,  17,  18,  19,  20,  21,  22,  23,  24,  25,  26,\n",
      "        27,  28,  29,  30,  31,  32,  33,  34,  35,  36,  37,  38,  39,\n",
      "        40,  41,  42,  43,  44,  45,  46,  47,  48,  49,  50,  51,  52,\n",
      "        53,  54,  55,  56,  57,  58,  59,  60,  61,  62,  63,  64,  65,\n",
      "        66,  67,  68,  69,  70,  71,  72,  73,  74,  75,  76,  77,  78,\n",
      "        79,  80,  81,  82,  83,  84,  85,  86,  87,  88,  89,  90,  91,\n",
      "        92,  93,  94,  95,  96,  97,  98,  99, 100, 101, 102, 103, 104,\n",
      "       105, 106, 107, 108, 109, 110, 111, 112, 113, 114, 115, 116, 117,\n",
      "       118, 119, 120, 121, 122, 123, 124, 125, 126, 127, 128, 129, 130,\n",
      "       131, 133, 134, 135, 136, 137, 138, 139, 140, 141, 142, 143, 144,\n",
      "       145, 146, 147, 148, 149, 150, 151, 152, 153, 154, 155, 156, 157,\n",
      "       158, 159, 160, 161, 162, 163, 164, 165, 166, 167, 168, 169, 170,\n",
      "       171, 172, 173, 174, 175, 176, 177, 178, 179, 180, 181, 182, 183,\n",
      "       184, 185, 186, 187, 188, 189, 190, 191, 192, 193, 194, 195, 196,\n",
      "       197, 198, 199, 200, 201, 202, 203, 204, 205, 206, 207, 208, 209,\n",
      "       210, 211, 212, 213, 214, 215, 216, 217, 218, 219, 220, 221, 222,\n",
      "       223, 224, 225, 226, 227, 228, 229, 230, 231, 232, 233, 234, 235,\n",
      "       236, 237, 238, 239, 240, 241, 242, 243, 244, 245, 246, 247, 248,\n",
      "       249, 250, 251, 252, 253, 254, 255, 256, 257, 258, 259, 260, 261,\n",
      "       262, 263, 264, 265, 266, 267, 268, 269, 270, 271, 272, 273, 274,\n",
      "       275, 276, 277, 278, 279, 280, 281, 282, 283, 284, 285, 286, 287,\n",
      "       288, 289, 290, 291, 292, 293, 294, 295, 296, 297, 298, 299, 300,\n",
      "       301, 302, 303, 304, 305, 306, 307, 308, 309, 310, 311, 312, 313,\n",
      "       314, 315, 316, 317, 318, 319, 320, 321, 322, 323, 324, 325, 326,\n",
      "       327, 328, 329, 330, 331, 332, 333, 334, 335, 336, 337, 338, 339,\n",
      "       340, 341, 342, 343, 344, 345, 346, 347, 348, 349, 350, 351, 352,\n",
      "       353, 354, 355, 356, 357, 358, 359, 360, 361, 362, 363, 364]), array([ 8,  3,  4,  1,  7,  7,  6,  9, 10,  6, 11,  5,  4,  3,  6,  8,  5,\n",
      "        8,  5,  6,  7,  3,  7,  4, 10,  8,  8,  4,  4,  5,  2,  6,  6,  5,\n",
      "        1,  5,  4,  6,  3,  9,  8, 11,  9,  6,  6,  4,  9,  5,  2,  2, 11,\n",
      "        5,  5,  4,  5,  1,  8,  7,  5,  5,  8,  5, 10,  9,  3,  6,  4,  3,\n",
      "        9,  7,  7,  7,  2, 10,  4,  5, 10,  4,  7,  8,  6, 10,  8,  7,  8,\n",
      "        7,  6,  3,  7,  8,  6,  6,  7,  4,  6,  8, 10,  5, 14,  7,  2,  6,\n",
      "        7,  9,  6,  8,  5,  6,  3, 10,  7,  6, 11, 13, 12,  4,  8, 11,  8,\n",
      "       11,  4,  8,  4,  4,  7,  7,  8,  1,  6,  7,  5, 13,  6,  4,  4,  7,\n",
      "        6,  4,  6,  5,  5,  6,  7,  8,  3,  5,  4,  5,  3, 10,  6,  6,  7,\n",
      "        9,  5,  4,  8,  3,  5,  7,  9,  4,  8,  6,  8,  9,  7,  5,  4,  5,\n",
      "        5,  5,  8,  7,  6,  5,  8,  5,  4,  6,  5,  4,  6,  5,  5,  5,  7,\n",
      "        6,  4,  9,  5,  3,  5,  9,  6,  4,  4,  7, 10,  8,  5,  8, 12,  5,\n",
      "        8,  6,  3,  5, 12,  6,  7,  4,  7,  5,  8,  4,  2,  7,  6,  3,  8,\n",
      "        5,  3, 13,  3,  4,  7,  5,  3,  5, 10,  6,  4,  6,  4,  9,  7,  5,\n",
      "        4,  5,  5,  3,  8, 10,  5, 11, 11, 11,  7,  8,  6,  9,  3,  5,  8,\n",
      "        3, 10,  5, 11,  8,  8,  7, 10,  4,  5,  6,  5,  5,  7,  6,  7, 10,\n",
      "        4,  5, 11, 10,  3,  4,  6,  8,  7, 10,  7,  4,  7,  2,  5,  3,  3,\n",
      "        7,  9,  7, 12,  8,  6,  8,  6,  7,  7,  4,  5,  5,  3,  6, 11,  6,\n",
      "        6,  6,  8,  6,  2,  5,  8,  7,  6,  3,  8, 12,  4,  6,  6,  4,  5,\n",
      "        5,  6,  8, 10,  9,  4,  3,  5, 11,  5,  5,  7,  7,  9,  9,  8,  7,\n",
      "       11,  9, 10,  3,  5,  6,  5,  3,  8,  6,  4, 10,  8,  9,  9,  6,  5,\n",
      "        7,  7,  5,  6,  5,  7]))\n"
     ]
    }
   ],
   "source": [
    "# 8. If 23 people are in the same room, what are the odds that two of them share a birthday? \n",
    "\n",
    "# 23 people, probability of any particular day of birth = 1/365\n",
    "# generate a random day from 1 to 365 for each of 23 people\n",
    "birthdays = np.random.randint(1, 365, size=(100, 23))\n",
    "print(birthdays)\n",
    "\n",
    "\n",
    "# stop here ran out of time before walkthrough, need to goggle how to find duplicate values in pandas df row?\n",
    "\n",
    "birthdays = pd.DataFrame(birthdays)\n",
    "occurances = birhtdays.apply(lambda row: \"Fail\" in row.values, axis=1)\n",
    "occurances = np.unique(birthdays, return_counts = True)\n",
    "print(occurances)"
   ]
  },
  {
   "cell_type": "code",
   "execution_count": 83,
   "metadata": {},
   "outputs": [
    {
     "data": {
      "text/plain": [
       "0.5004771540365807"
      ]
     },
     "execution_count": 83,
     "metadata": {},
     "output_type": "execute_result"
    }
   ],
   "source": [
    "# exobrain https://betterexplained.com/articles/understanding-the-birthday-paradox/\n",
    "\n",
    "# 23 people = 253 pairs ((23*22)/2)\n",
    "# odds that bdays are different = 364/365\n",
    "# odds that any pair has same bday\n",
    "1-(364/365)**253"
   ]
  },
  {
   "cell_type": "code",
   "execution_count": 72,
   "metadata": {},
   "outputs": [],
   "source": [
    "# 8a. # What if it's 20 people? \n",
    "\n"
   ]
  },
  {
   "cell_type": "code",
   "execution_count": 71,
   "metadata": {},
   "outputs": [
    {
     "data": {
      "text/plain": [
       "0.4062294594924657"
      ]
     },
     "execution_count": 71,
     "metadata": {},
     "output_type": "execute_result"
    }
   ],
   "source": [
    "pairs = (20*19)/2\n",
    "1-(364/365)**pairs"
   ]
  },
  {
   "cell_type": "code",
   "execution_count": 70,
   "metadata": {},
   "outputs": [],
   "source": [
    "# 8b. 40?\n",
    "\n"
   ]
  },
  {
   "cell_type": "code",
   "execution_count": 69,
   "metadata": {},
   "outputs": [
    {
     "data": {
      "text/plain": [
       "0.8823356309842172"
      ]
     },
     "execution_count": 69,
     "metadata": {},
     "output_type": "execute_result"
    }
   ],
   "source": [
    "pairs = (40*39)/2\n",
    "1-(364/365)**pairs"
   ]
  },
  {
   "cell_type": "code",
   "execution_count": null,
   "metadata": {},
   "outputs": [],
   "source": []
  }
 ],
 "metadata": {
  "kernelspec": {
   "display_name": "Python 3",
   "language": "python",
   "name": "python3"
  },
  "language_info": {
   "codemirror_mode": {
    "name": "ipython",
    "version": 3
   },
   "file_extension": ".py",
   "mimetype": "text/x-python",
   "name": "python",
   "nbconvert_exporter": "python",
   "pygments_lexer": "ipython3",
   "version": "3.7.6"
  }
 },
 "nbformat": 4,
 "nbformat_minor": 4
}
