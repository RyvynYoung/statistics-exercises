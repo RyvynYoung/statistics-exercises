{
 "cells": [
  {
   "cell_type": "code",
   "execution_count": 2,
   "metadata": {},
   "outputs": [],
   "source": [
    "import numpy as np\n",
    "import pandas as pd\n",
    "\n",
    "import viz # curriculum example visualizations\n",
    "\n",
    "np.random.seed(29)"
   ]
  },
  {
   "cell_type": "code",
   "execution_count": null,
   "metadata": {},
   "outputs": [],
   "source": [
    "# example code from curriculum\n",
    "# n_trials = nrows = 10_000\n",
    "# n_dice = ncols = 3\n",
    "\n",
    "# rolls = np.random.choice([1, 2, 3, 4, 5, 6], n_trials * n_dice).reshape(nrows, ncols)\n",
    "# rolls\n",
    "\n"
   ]
  },
  {
   "cell_type": "code",
   "execution_count": 8,
   "metadata": {},
   "outputs": [
    {
     "name": "stdout",
     "output_type": "stream",
     "text": [
      "[[3 2]\n",
      " [3 3]\n",
      " [6 5]\n",
      " ...\n",
      " [3 6]\n",
      " [5 3]\n",
      " [2 6]]\n"
     ]
    }
   ],
   "source": [
    "# 1. How likely is it that you roll doubles when rolling two dice?\n",
    "\n",
    "#problem set up, need 10000 trials (large # trials), rolling 2 dice\n",
    "#each roll of 2 dice will be a row\n",
    "\n",
    "ntrials = nrows = 10000\n",
    "ndice = ncols = 2\n",
    "\n",
    "rolls = np.random.choice([1,2,3,4,5,6], ntrials * ndice).reshape(nrows, ncols)\n",
    "print(rolls)\n"
   ]
  },
  {
   "cell_type": "code",
   "execution_count": null,
   "metadata": {},
   "outputs": [],
   "source": [
    "# example code from curriculum\n",
    "# n_simulations = nrows = 10**5\n",
    "# n_dice_rolled = ncols = 3\n",
    "\n",
    "# rolls = np.random.choice([1, 2, 3, 4, 5, 6], nrows * ncols).reshape(nrows, ncols)\n",
    "\n",
    "# (pd.DataFrame(rolls)\n",
    "#  .apply(lambda row: 3 in row.values, axis=1)\n",
    "#  .mean())"
   ]
  },
  {
   "cell_type": "code",
   "execution_count": 11,
   "metadata": {},
   "outputs": [
    {
     "data": {
      "text/plain": [
       "0.1636"
      ]
     },
     "execution_count": 11,
     "metadata": {},
     "output_type": "execute_result"
    }
   ],
   "source": [
    "#now that we have sample rolls, determine which rolls are doubles\n",
    "#need data in dataframe instead of matrix?\n",
    "rolls = pd.DataFrame(rolls)\n",
    "#then apply lambda function to look for doubles?\n",
    "doubles = rolls.apply(lambda row: row[0]==row[1], axis=1)\n",
    "#then find the average of the times the row is true\n",
    "doubles.mean()\n",
    "\n",
    "# exobrain answer verification https://www.stayorswitch.com/blog/with-two-dice-whats-the-probability-of-rolling-doubles/"
   ]
  },
  {
   "cell_type": "code",
   "execution_count": 17,
   "metadata": {},
   "outputs": [
    {
     "data": {
      "text/plain": [
       "0.2181"
      ]
     },
     "execution_count": 17,
     "metadata": {},
     "output_type": "execute_result"
    }
   ],
   "source": [
    "# 2. If you flip 8 coins, what is the probability of getting exactly 3 heads?\n",
    "\n",
    "# exobrain https://www.google.com/search?client=safari&rls=en&q=If+you+flip+8+coins,+what+is+the+probability+of+getting+exactly+3+heads&ie=UTF-8&oe=UTF-8\n",
    "\n",
    "#problem set up, 1 row per trial, 8 columns, 1=heads, 0=tails\n",
    "#example from lesson\n",
    "# sums_by_trial = rolls.sum(axis=1)\n",
    "# sums_by_trial\n",
    "\n",
    "ntrials = nrows = 10000\n",
    "ncoins = ncols = 8\n",
    "\n",
    "flips = np.random.choice([1, 0], nrows * ncols).reshape(nrows, ncols)\n",
    "#now add the row total\n",
    "sumbytrial = flips.sum(axis=1)\n",
    "# then get the average of those where the sum is 3\n",
    "(sumbytrial==3).mean()"
   ]
  },
  {
   "cell_type": "code",
   "execution_count": null,
   "metadata": {},
   "outputs": [],
   "source": [
    "# 2a. What is the probability of getting more than 3 heads?"
   ]
  },
  {
   "cell_type": "code",
   "execution_count": 18,
   "metadata": {},
   "outputs": [
    {
     "data": {
      "text/plain": [
       "0.636"
      ]
     },
     "execution_count": 18,
     "metadata": {},
     "output_type": "execute_result"
    }
   ],
   "source": [
    "# get the average where the sum is greater than 3\n",
    "(sumbytrial>3).mean()"
   ]
  },
  {
   "cell_type": "code",
   "execution_count": 21,
   "metadata": {},
   "outputs": [],
   "source": [
    "# 3. There are approximitely 3 web development cohorts for every 1 data science cohort at Codeup. \n",
    "# Assuming that Codeup randomly selects an alumni to put on a billboard, what are the odds that the two\n",
    "# billboards I drive past both have data science students on them?\n",
    "\n",
    "# if all cohorts are of the same size, student pattern is wwwdwwwdwwwdwwwdwwwdwwwd \n",
    "# probability one board is data science = 1/3\n",
    "# probability both are = 1/3 * 1/3 = 1/9\n",
    "\n",
    "\n",
    "\n"
   ]
  },
  {
   "cell_type": "code",
   "execution_count": 28,
   "metadata": {},
   "outputs": [
    {
     "data": {
      "text/plain": [
       "0.3053"
      ]
     },
     "execution_count": 28,
     "metadata": {},
     "output_type": "execute_result"
    }
   ],
   "source": [
    "# 4. Codeup students buy, on average, 3 poptart packages (+- 1.5) a day from the snack vending machine. \n",
    "# If on monday the machine is restocked with 17 poptart packages, how likely is it that I will be able to \n",
    "# buy some poptarts on Friday afternoon?\n",
    "\n",
    "# 17 start Monday before class, the range of poptarts eaten per week is 7.5 to 22.5\n",
    "# generate random numbers in this range to represent # of poptarts eaten each week\n",
    "eaten_weekly = np.random.uniform(low=7.5, high=22.5, size=10000)\n",
    "# subtract the available # of poptarts from the average eaten\n",
    "left = eaten_weekly - 17\n",
    "# if the number left is higher than 1 there is a package of poptarts left that week available Friday afternoon\n",
    "# find average of weeks where 1 or more is left\n",
    "(left>1).mean()"
   ]
  },
  {
   "cell_type": "code",
   "execution_count": 32,
   "metadata": {},
   "outputs": [
    {
     "data": {
      "text/plain": [
       "0.2137"
      ]
     },
     "execution_count": 32,
     "metadata": {},
     "output_type": "execute_result"
    }
   ],
   "source": [
    "# 5. Compare Heights\n",
    "# -Men have an average height of 178 cm and standard deviation of 8cm.\n",
    "# -Women have a mean of 170, sd = 6cm.\n",
    "# -If a man and woman are chosen at random, P(woman taller than man)?\n",
    "\n",
    "# get a sample of 10000 men and 10000 women with heights within 1 standard dev of mean\n",
    "men = np.random.normal(loc=178, scale=8, size=10000)\n",
    "women = np.random.normal(loc=170, scale=6, size=10000)\n",
    "\n",
    "# subtract men - women, if result is negative woman is taller\n",
    "taller = men - women\n",
    "\n",
    "# find average where taller is negative\n",
    "(taller<0).mean()"
   ]
  },
  {
   "cell_type": "code",
   "execution_count": 71,
   "metadata": {},
   "outputs": [
    {
     "data": {
      "text/plain": [
       "0.8184024506760997"
      ]
     },
     "execution_count": 71,
     "metadata": {},
     "output_type": "execute_result"
    }
   ],
   "source": [
    "# 6. When installing anaconda on a student's computer, there's a 1 in 250 chance that the download is corrupted\n",
    "# and the installation fails. What are the odds that after having 50 students download anaconda, no one has an\n",
    "# installation issue? \n",
    "\n",
    "#Binomial distribution?\n",
    "#1-(sum(np.random.binomial(50, .996, size=100000)>0)/100000)\n",
    "\n",
    "pfail = 1/250\n",
    "psuccess = 1-1/250\n",
    "\n",
    "# p all 50 successful = 1*.996**50*.004**0\n",
    "1*.996**50*.004**0\n"
   ]
  },
  {
   "cell_type": "code",
   "execution_count": 72,
   "metadata": {},
   "outputs": [
    {
     "data": {
      "text/plain": [
       "0.6697825712726458"
      ]
     },
     "execution_count": 72,
     "metadata": {},
     "output_type": "execute_result"
    }
   ],
   "source": [
    "# 6a. # 100 students?\n",
    "#1-sum(np.random.binomial(100, .996, size=100000)==0)/100000\n",
    "\n",
    "# p all 100 successful = 1*.996**50*.004**0\n",
    "1*.996**100*.004**0"
   ]
  },
  {
   "cell_type": "code",
   "execution_count": 73,
   "metadata": {},
   "outputs": [
    {
     "data": {
      "text/plain": [
       "0.4518483022503271"
      ]
     },
     "execution_count": 73,
     "metadata": {},
     "output_type": "execute_result"
    }
   ],
   "source": [
    "# 6b. What is the probability that we observe an installation issue within the first 150 students that\n",
    "# download anaconda?\n",
    "\n",
    "# P of 1 issue in 1st 150 = 1 - P(no issues in 1st 150)\n",
    "1-(1*.996**150*.004**0)"
   ]
  },
  {
   "cell_type": "code",
   "execution_count": 74,
   "metadata": {},
   "outputs": [
    {
     "data": {
      "text/plain": [
       "0.1647032961586129"
      ]
     },
     "execution_count": 74,
     "metadata": {},
     "output_type": "execute_result"
    }
   ],
   "source": [
    "# 6c. How likely is it that 450 students all download anaconda without an issue?\n",
    "1*.996**450*.004**0"
   ]
  },
  {
   "cell_type": "code",
   "execution_count": null,
   "metadata": {},
   "outputs": [],
   "source": [
    "# A real world example. A company drills 9 wild-cat oil exploration wells, each with an estimated probability of\n",
    "# success of 0.1. All nine wells fail. What is the probability of that happening?\n",
    "\n",
    "# Let’s do 20,000 trials of the model, and count the number that generate zero positive results.\n",
    "\n",
    "sum(np.random.binomial(9, 0.1, 20000)==0)/20000\n",
    "# # answer = 0.38885, or 38%."
   ]
  },
  {
   "cell_type": "code",
   "execution_count": 78,
   "metadata": {},
   "outputs": [
    {
     "name": "stdout",
     "output_type": "stream",
     "text": [
      "0.02495\n",
      "0.99965\n"
     ]
    }
   ],
   "source": [
    "# 7. There's a 70% chance on any given day that there will be at least one food truck at Travis Park. \n",
    "# However, you haven't seen a food truck there in 3 days. How unlikely is this?\n",
    "\n",
    "unlikely = sum(np.random.binomial(3, 0.7, 20000)==0)/20000\n",
    "print(unlikely)\n",
    "\n",
    "# How likely is it that a food truck will show up sometime this week?\n",
    "likely = 1-(sum(np.random.binomial(7, 0.7, 20000)==0)/20000)\n",
    "print(likely)"
   ]
  },
  {
   "cell_type": "code",
   "execution_count": 79,
   "metadata": {},
   "outputs": [
    {
     "data": {
      "text/plain": [
       "0.5004771540365807"
      ]
     },
     "execution_count": 79,
     "metadata": {},
     "output_type": "execute_result"
    }
   ],
   "source": [
    "# 8. If 23 people are in the same room, what are the odds that two of them share a birthday? \n",
    "\n",
    "# exobrain https://betterexplained.com/articles/understanding-the-birthday-paradox/\n",
    "\n",
    "# 23 people = 253 pairs ((23*22)/2)\n",
    "# odds that bdays are different = 364/365\n",
    "# odds that any pair has same bday\n",
    "1-(364/365)**253"
   ]
  },
  {
   "cell_type": "code",
   "execution_count": 80,
   "metadata": {},
   "outputs": [
    {
     "data": {
      "text/plain": [
       "0.4062294594924657"
      ]
     },
     "execution_count": 80,
     "metadata": {},
     "output_type": "execute_result"
    }
   ],
   "source": [
    "# 8a. # What if it's 20 people? \n",
    "\n",
    "pairs = (20*19)/2\n",
    "1-(364/365)**pairs"
   ]
  },
  {
   "cell_type": "code",
   "execution_count": 81,
   "metadata": {},
   "outputs": [
    {
     "data": {
      "text/plain": [
       "0.8823356309842172"
      ]
     },
     "execution_count": 81,
     "metadata": {},
     "output_type": "execute_result"
    }
   ],
   "source": [
    "# 8b. 40?\n",
    "\n",
    "pairs = (40*39)/2\n",
    "1-(364/365)**pairs"
   ]
  },
  {
   "cell_type": "code",
   "execution_count": null,
   "metadata": {},
   "outputs": [],
   "source": []
  }
 ],
 "metadata": {
  "kernelspec": {
   "display_name": "Python 3",
   "language": "python",
   "name": "python3"
  },
  "language_info": {
   "codemirror_mode": {
    "name": "ipython",
    "version": 3
   },
   "file_extension": ".py",
   "mimetype": "text/x-python",
   "name": "python",
   "nbconvert_exporter": "python",
   "pygments_lexer": "ipython3",
   "version": "3.7.6"
  }
 },
 "nbformat": 4,
 "nbformat_minor": 4
}
